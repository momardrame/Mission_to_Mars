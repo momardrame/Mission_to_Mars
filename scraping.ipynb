{
 "cells": [
  {
   "cell_type": "code",
   "execution_count": 14,
   "metadata": {},
   "outputs": [],
   "source": [
    "# Import Splinter and BeautifulSoup\n",
    "from splinter import Browser\n",
    "from bs4 import BeautifulSoup\n",
    "import pandas as pd\n",
    "import datetime as dt"
   ]
  },
  {
   "cell_type": "code",
   "execution_count": 15,
   "metadata": {},
   "outputs": [],
   "source": [
    "#\n",
    "def scrape_all():\n",
    "    # Initiate headless driver for deployment\n",
    "    browser = Browser(\"chrome\", executable_path=\"chromedriver.exe\", headless=True)\n",
    "    news_title, news_paragraph = mars_news(browser)\n",
    "    \n",
    "    # Run all scrapping functions and store results in dictionnary\n",
    "    data = {\n",
    "            \"news_title\": news_title,\n",
    "            \"news_paragraph\": news_paragraph,\n",
    "            \"featured_image\": featured_image(browser),\n",
    "            \"facts\": mars_facts(),\n",
    "            \"last_modified\": dt.datetime.now()\n",
    "        \n",
    "            }\n",
    "    if __name__== \"__main__\":\n",
    "        # If running as scrip, print scraped data\n",
    "        print(scrape_all())\n",
    "    \n",
    "    return\n",
    "    "
   ]
  },
  {
   "cell_type": "code",
   "execution_count": 16,
   "metadata": {},
   "outputs": [],
   "source": [
    "# Set the executable path and initialize the chrome browser in splinter\n",
    "\n"
   ]
  },
  {
   "cell_type": "code",
   "execution_count": 17,
   "metadata": {},
   "outputs": [],
   "source": [
    "def mars_news(browser):\n",
    "    \n",
    "    # visit the Mars NASA news site\n",
    "    url =\"https://mars.nasa.gov/news\"\n",
    "    browser.visit(url)\n",
    "\n",
    "    # Optional delay for loading the page\n",
    "    browser.is_element_present_by_css(\"ul.item_list li.slide\", wait_time=1)\n",
    "    \n",
    "    # Parse the HTML with BeautifulSoup\n",
    "    html = browser.html\n",
    "    news_soup = BeautifulSoup(html, \"html.parser\")\n",
    "    \n",
    "    try:\n",
    "        slide_elem = news_soup.select_one(\"ul.item_list li.slide\")\n",
    "        slide_elem.find(\"div\", class_=\"content_title\")\n",
    "    \n",
    "        # Use the parent element to find the first \"a\" tag and save it as \"news_title\"\n",
    "        news_title = slide_elem.find(\"div\", class_=\"content_title\").get_text()\n",
    "    \n",
    "        # Use the parent element to find the paragraph text\n",
    "        news_p = slide_elem.find(\"div\", class_=\"article_teaser_body\").get_text()\n",
    "    \n",
    "    except AttributeError:\n",
    "        return None, None\n",
    "        \n",
    "    return news_title, news_p "
   ]
  },
  {
   "cell_type": "markdown",
   "metadata": {},
   "source": [
    "### Featured Images"
   ]
  },
  {
   "cell_type": "code",
   "execution_count": 18,
   "metadata": {},
   "outputs": [],
   "source": [
    "def featured_image(browser):\n",
    "    # Visit url\n",
    "    url = \"https://www.jpl.nasa.gov/spaceimages/?search=&category=Mars\"\n",
    "    browser.visit(url)\n",
    "    \n",
    "    # Find and click the full image button\n",
    "    full_image_elem = browser.find_by_id (\"full_image\")\n",
    "    full_image_elem.click()\n",
    "    \n",
    "    # Find the more info button and click that\n",
    "    browser.is_element_present_by_text (\"more info\", wait_time=1)\n",
    "    more_info_elem = browser.find_link_by_partial_text (\"more info\")\n",
    "    more_info_elem.click()\n",
    "    \n",
    "    # Parse the resulting HTML with BeautifulSoup\n",
    "    html = browser.html\n",
    "    img_soup = BeautifulSoup(html, \"html.parser\")\n",
    "    \n",
    "    try:\n",
    "        # Find the relative image url\n",
    "        img_url_rel = img_soup.select_one (\"figure.lede a img\").get(\"src\")\n",
    "        \n",
    "    except AttributeError:\n",
    "        return None\n",
    "    \n",
    "    # Use the base URL to create an absolute URL\n",
    "    img_url = f\"https://www.jpl.nasa.gov{img_url_rel}\"\n",
    "    \n",
    "    return img_url"
   ]
  },
  {
   "cell_type": "code",
   "execution_count": 19,
   "metadata": {},
   "outputs": [],
   "source": [
    "def mars_facts():\n",
    "    # Add try/except for error handling\n",
    "    try:\n",
    "        # Use \"read_html\" to scrape the facts table into a DataFrame\n",
    "        df = pd.read_html(\"https://space-facts.com/mars/\")[0]\n",
    "        \n",
    "    except BaseException:\n",
    "        return None\n",
    "    \n",
    "    # Assign columns and set index of dataframe\n",
    "    df.columns=[\"Description\", \"Value\"]\n",
    "    df.set_index(\"Description\", inplace=True)\n",
    "\n",
    "    # Convert dataframe into HTML\n",
    "    return df.to_html()"
   ]
  },
  {
   "cell_type": "code",
   "execution_count": 20,
   "metadata": {},
   "outputs": [],
   "source": [
    "# End the browser session\n",
    "browser.quit()"
   ]
  },
  {
   "cell_type": "code",
   "execution_count": null,
   "metadata": {},
   "outputs": [],
   "source": []
  }
 ],
 "metadata": {
  "kernelspec": {
   "display_name": "PythonData",
   "language": "python",
   "name": "pythondata"
  },
  "language_info": {
   "codemirror_mode": {
    "name": "ipython",
    "version": 3
   },
   "file_extension": ".py",
   "mimetype": "text/x-python",
   "name": "python",
   "nbconvert_exporter": "python",
   "pygments_lexer": "ipython3",
   "version": "3.7.6"
  }
 },
 "nbformat": 4,
 "nbformat_minor": 4
}
