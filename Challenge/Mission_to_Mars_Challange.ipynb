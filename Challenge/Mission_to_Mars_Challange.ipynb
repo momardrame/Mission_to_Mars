{
 "cells": [
  {
   "cell_type": "code",
   "execution_count": 1,
   "metadata": {},
   "outputs": [],
   "source": [
    "# Import Dependencies\n",
    "import pandas as pd\n",
    "import datetime as dt\n",
    "from datetime import datetime\n",
    "# Import Splinter and BeautifulSoup\n",
    "from splinter import Browser\n",
    "from bs4 import BeautifulSoup"
   ]
  },
  {
   "cell_type": "code",
   "execution_count": 2,
   "metadata": {},
   "outputs": [],
   "source": [
    "# Automate chrome browser with Splinter\n",
    "# unpacking dicitionary\n",
    "executable_path = {'executable_path': 'chromedriver.exe'} \n",
    "# display all browser actions\n",
    "browser = Browser('chrome',**executable_path, headless=False) "
   ]
  },
  {
   "cell_type": "code",
   "execution_count": 3,
   "metadata": {},
   "outputs": [],
   "source": [
    "# Visit the mars nasa news site\n",
    "url = 'https://mars.nasa.gov/news/'\n",
    "browser.visit(url)\n",
    "# Optional delay for loading the page\n",
    "browser.is_element_present_by_css(\"ul.item_list li.slide\", wait_time=1)\n",
    "# Set up the HTML parser:\n",
    "html = browser.html\n",
    "news_soup = BeautifulSoup(html, 'html.parser')\n",
    "slide_elem = news_soup.select_one('ul.item_list li.slide')\n",
    "slide_elem.find(\"div\", class_='content_title')\n",
    "# Use the parent element to find the first `a` tag and save it as `news_title`\n",
    "news_title = slide_elem.find(\"div\", class_='content_title').get_text()\n",
    "# Use the parent element to find the paragraph text\n",
    "news_p = slide_elem.find('div', class_=\"article_teaser_body\").get_text()"
   ]
  },
  {
   "cell_type": "code",
   "execution_count": 5,
   "metadata": {},
   "outputs": [],
   "source": [
    "# Mars Images\n",
    "slide_elem = news_soup.select_one('ul.item_list li.slide')\n",
    "slide_elem.find(\"div\", class_='content_title')\n",
    "# Use the parent element to find the first `a` tag and save it as `news_title`\n",
    "news_title = slide_elem.find(\"div\", class_='content_title').get_text()\n",
    "# Use the parent element to find the paragraph text\n",
    "news_p = slide_elem.find('div', class_=\"article_teaser_body\").get_text()\n"
   ]
  },
  {
   "cell_type": "code",
   "execution_count": null,
   "metadata": {},
   "outputs": [],
   "source": [
    "# Cerberus Hemisphere Enhanced\n",
    "url = 'https://astrogeology.usgs.gov/search/results?q=hemisphere+enhanced&k1=target&v1=Mars'\n",
    "browser.visit(url)\n",
    "# Find and click the hemisphere link button\n",
    "image_elem = browser.find_by_css('a.product-item h3')\n",
    "image_elem.click()\n",
    "# Parse the resulting html with soup\n",
    "html = browser.html\n",
    "img_soup = BeautifulSoup(html, 'html.parser')\n",
    "# Find the title\n",
    "title_elem= img_soup.find(\"h2\", class_=\"title\").get_text()\n",
    "title_elem\n",
    "# Find the sample button and click\n",
    "sample_elem= browser.find_by_text('Sample')\n",
    "sample_elem.click()\n",
    "# Find the relative image url\n",
    "img_url_rel = img_soup.find_all('img')[\"src\"]\n",
    "img_url_rel"
   ]
  },
  {
   "cell_type": "code",
   "execution_count": null,
   "metadata": {},
   "outputs": [],
   "source": [
    "# Schiaparelli Hemisphere Enhanced\n",
    "url = 'https://astrogeology.usgs.gov/search/results?q=hemisphere+enhanced&k1=target&v1=Mars'\n",
    "browser.visit(url)\n",
    "# Find and click the hemisphere link button\n",
    "image_elem = browser.find_by_css('a.product-item h3')\n",
    "image_elem.click()\n",
    "# Parse the resulting html with soup\n",
    "html = browser.html\n",
    "img_soup = BeautifulSoup(html, 'html.parser')\n",
    "# Find the title\n",
    "title_elem= img_soup.find(\"h2\", class_=\"title\").get_text()\n",
    "title_elem\n",
    "# Find the sample button and click\n",
    "sample_elem= browser.find_by_text('Sample')\n",
    "sample_elem.click()\n",
    "img_url_rel = img_soup.find_all('img')[\"src\"]\n",
    "img_url_rel"
   ]
  },
  {
   "cell_type": "code",
   "execution_count": null,
   "metadata": {},
   "outputs": [],
   "source": [
    "# Syrtis Major Hemisphere Enhanced\n",
    "url = 'https://astrogeology.usgs.gov/search/results?q=hemisphere+enhanced&k1=target&v1=Mars'\n",
    "browser.visit(url)\n",
    "# Find and click the hemisphere link button\n",
    "image_elem = browser.find_by_css('a.product-item h3')\n",
    "image_elem.click()\n",
    "# Parse the resulting html with soup\n",
    "html = browser.html\n",
    "img_soup = BeautifulSoup(html, 'html.parser')\n",
    "# Find the title\n",
    "title_elem= img_soup.find(\"h2\", class_=\"title\").get_text()\n",
    "title_elem\n",
    "# Find the sample button and click\n",
    "sample_elem= browser.find_by_text('Sample')\n",
    "sample_elem.click()\n",
    "# Find the relative image url\n",
    "img_url_rel = img_soup.find_all('img')[\"src\"]\n",
    "img_url_rel"
   ]
  },
  {
   "cell_type": "code",
   "execution_count": null,
   "metadata": {},
   "outputs": [],
   "source": [
    "# Valles Marineris Hemisphere Enhanced\n",
    "url = 'https://astrogeology.usgs.gov/search/results?q=hemisphere+enhanced&k1=target&v1=Mars'\n",
    "browser.visit(url)\n",
    "# Find and click the hemisphere link button\n",
    "image_elem = browser.find_by_css('a.product-item h3')\n",
    "image_elem.click()\n",
    "# Parse the resulting html with soup\n",
    "html = browser.html\n",
    "img_soup = BeautifulSoup(html, 'html.parser')\n",
    "# Find the title\n",
    "title_elem= img_soup.find(\"h2\", class_=\"title\").get_text()\n",
    "title_elem\n",
    "# Find the sample button and click\n",
    "sample_elem= browser.find_by_text('Sample')\n",
    "sample_elem.click()\n",
    "# Find the relative image url\n",
    "img_url_rel = img_soup.find_all('img')[\"src\"]\n",
    "img_url_rel"
   ]
  },
  {
   "cell_type": "markdown",
   "metadata": {},
   "source": [
    "# Scrape Mars Data: Mars Facts"
   ]
  },
  {
   "cell_type": "code",
   "execution_count": null,
   "metadata": {},
   "outputs": [],
   "source": [
    "# we’re going to scrape the entire table with Pandas’ .read_html() function\n",
    "import pandas as pd\n",
    "df = pd.read_html('http://space-facts.com/mars/')[0]\n",
    "df.columns=['description', 'value']\n",
    "df.set_index('description', inplace=True)\n",
    "# Convert dataframe into HTML format, add bootstrap\n",
    "return df.to_html()"
   ]
  },
  {
   "cell_type": "code",
   "execution_count": null,
   "metadata": {},
   "outputs": [],
   "source": []
  }
 ],
 "metadata": {
  "kernelspec": {
   "display_name": "Python 3",
   "language": "python",
   "name": "python3"
  },
  "language_info": {
   "codemirror_mode": {
    "name": "ipython",
    "version": 3
   },
   "file_extension": ".py",
   "mimetype": "text/x-python",
   "name": "python",
   "nbconvert_exporter": "python",
   "pygments_lexer": "ipython3",
   "version": "3.7.4"
  }
 },
 "nbformat": 4,
 "nbformat_minor": 4
}
